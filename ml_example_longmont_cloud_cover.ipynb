{
 "cells": [
  {
   "cell_type": "code",
   "execution_count": 1,
   "metadata": {},
   "outputs": [],
   "source": [
    "# Imports\n",
    "import pandas as pd\n",
    "import matplotlib.pyplot as plt\n",
    "import numpy as np\n",
    "import datetime\n",
    "from sklearn.model_selection import train_test_split\n",
    "from sklearn.ensemble import RandomForestClassifier\n",
    "from sklearn.metrics import accuracy_score"
   ]
  },
  {
   "cell_type": "code",
   "execution_count": 2,
   "metadata": {},
   "outputs": [],
   "source": [
    "# Read the KLMO data\n",
    "df = pd.read_csv('./LMO.csv')"
   ]
  },
  {
   "cell_type": "code",
   "execution_count": 3,
   "metadata": {},
   "outputs": [
    {
     "data": {
      "text/html": [
       "<div>\n",
       "<style scoped>\n",
       "    .dataframe tbody tr th:only-of-type {\n",
       "        vertical-align: middle;\n",
       "    }\n",
       "\n",
       "    .dataframe tbody tr th {\n",
       "        vertical-align: top;\n",
       "    }\n",
       "\n",
       "    .dataframe thead th {\n",
       "        text-align: right;\n",
       "    }\n",
       "</style>\n",
       "<table border=\"1\" class=\"dataframe\">\n",
       "  <thead>\n",
       "    <tr style=\"text-align: right;\">\n",
       "      <th></th>\n",
       "      <th>tmpf</th>\n",
       "      <th>relh</th>\n",
       "      <th>drct</th>\n",
       "      <th>sped</th>\n",
       "      <th>alti</th>\n",
       "      <th>skyc1</th>\n",
       "      <th>hour</th>\n",
       "      <th>month</th>\n",
       "      <th>year</th>\n",
       "      <th>day</th>\n",
       "    </tr>\n",
       "    <tr>\n",
       "      <th>time</th>\n",
       "      <th></th>\n",
       "      <th></th>\n",
       "      <th></th>\n",
       "      <th></th>\n",
       "      <th></th>\n",
       "      <th></th>\n",
       "      <th></th>\n",
       "      <th></th>\n",
       "      <th></th>\n",
       "      <th></th>\n",
       "    </tr>\n",
       "  </thead>\n",
       "  <tbody>\n",
       "    <tr>\n",
       "      <th>2011-04-18 17:53:00</th>\n",
       "      <td>57.20</td>\n",
       "      <td>51.63</td>\n",
       "      <td>50.0</td>\n",
       "      <td>5.75</td>\n",
       "      <td>29.64</td>\n",
       "      <td>OVC</td>\n",
       "      <td>17</td>\n",
       "      <td>4</td>\n",
       "      <td>2011</td>\n",
       "      <td>18</td>\n",
       "    </tr>\n",
       "    <tr>\n",
       "      <th>2011-04-18 18:13:00</th>\n",
       "      <td>57.20</td>\n",
       "      <td>51.63</td>\n",
       "      <td>60.0</td>\n",
       "      <td>9.20</td>\n",
       "      <td>29.63</td>\n",
       "      <td>OVC</td>\n",
       "      <td>18</td>\n",
       "      <td>4</td>\n",
       "      <td>2011</td>\n",
       "      <td>18</td>\n",
       "    </tr>\n",
       "    <tr>\n",
       "      <th>2011-04-18 18:33:00</th>\n",
       "      <td>57.74</td>\n",
       "      <td>50.99</td>\n",
       "      <td>20.0</td>\n",
       "      <td>8.05</td>\n",
       "      <td>29.63</td>\n",
       "      <td>OVC</td>\n",
       "      <td>18</td>\n",
       "      <td>4</td>\n",
       "      <td>2011</td>\n",
       "      <td>18</td>\n",
       "    </tr>\n",
       "    <tr>\n",
       "      <th>2011-04-18 18:53:00</th>\n",
       "      <td>58.10</td>\n",
       "      <td>49.29</td>\n",
       "      <td>10.0</td>\n",
       "      <td>5.75</td>\n",
       "      <td>29.62</td>\n",
       "      <td>OVC</td>\n",
       "      <td>18</td>\n",
       "      <td>4</td>\n",
       "      <td>2011</td>\n",
       "      <td>18</td>\n",
       "    </tr>\n",
       "    <tr>\n",
       "      <th>2011-04-18 19:13:00</th>\n",
       "      <td>59.72</td>\n",
       "      <td>47.17</td>\n",
       "      <td>80.0</td>\n",
       "      <td>8.05</td>\n",
       "      <td>29.61</td>\n",
       "      <td>OVC</td>\n",
       "      <td>19</td>\n",
       "      <td>4</td>\n",
       "      <td>2011</td>\n",
       "      <td>18</td>\n",
       "    </tr>\n",
       "    <tr>\n",
       "      <th>...</th>\n",
       "      <td>...</td>\n",
       "      <td>...</td>\n",
       "      <td>...</td>\n",
       "      <td>...</td>\n",
       "      <td>...</td>\n",
       "      <td>...</td>\n",
       "      <td>...</td>\n",
       "      <td>...</td>\n",
       "      <td>...</td>\n",
       "      <td>...</td>\n",
       "    </tr>\n",
       "    <tr>\n",
       "      <th>2022-02-23 19:15:00</th>\n",
       "      <td>14.20</td>\n",
       "      <td>44.30</td>\n",
       "      <td>340.0</td>\n",
       "      <td>3.45</td>\n",
       "      <td>30.08</td>\n",
       "      <td>SCT</td>\n",
       "      <td>19</td>\n",
       "      <td>2</td>\n",
       "      <td>2022</td>\n",
       "      <td>23</td>\n",
       "    </tr>\n",
       "    <tr>\n",
       "      <th>2022-02-23 19:35:00</th>\n",
       "      <td>11.50</td>\n",
       "      <td>48.96</td>\n",
       "      <td>310.0</td>\n",
       "      <td>5.75</td>\n",
       "      <td>30.07</td>\n",
       "      <td>SCT</td>\n",
       "      <td>19</td>\n",
       "      <td>2</td>\n",
       "      <td>2022</td>\n",
       "      <td>23</td>\n",
       "    </tr>\n",
       "    <tr>\n",
       "      <th>2022-02-23 19:55:00</th>\n",
       "      <td>9.90</td>\n",
       "      <td>49.87</td>\n",
       "      <td>0.0</td>\n",
       "      <td>0.00</td>\n",
       "      <td>30.04</td>\n",
       "      <td>SCT</td>\n",
       "      <td>19</td>\n",
       "      <td>2</td>\n",
       "      <td>2022</td>\n",
       "      <td>23</td>\n",
       "    </tr>\n",
       "    <tr>\n",
       "      <th>2022-02-23 20:15:00</th>\n",
       "      <td>9.50</td>\n",
       "      <td>53.52</td>\n",
       "      <td>320.0</td>\n",
       "      <td>3.45</td>\n",
       "      <td>30.03</td>\n",
       "      <td>SCT</td>\n",
       "      <td>20</td>\n",
       "      <td>2</td>\n",
       "      <td>2022</td>\n",
       "      <td>23</td>\n",
       "    </tr>\n",
       "    <tr>\n",
       "      <th>2022-02-23 20:35:00</th>\n",
       "      <td>12.20</td>\n",
       "      <td>51.71</td>\n",
       "      <td>320.0</td>\n",
       "      <td>3.45</td>\n",
       "      <td>30.02</td>\n",
       "      <td>BKN</td>\n",
       "      <td>20</td>\n",
       "      <td>2</td>\n",
       "      <td>2022</td>\n",
       "      <td>23</td>\n",
       "    </tr>\n",
       "  </tbody>\n",
       "</table>\n",
       "<p>266268 rows × 10 columns</p>\n",
       "</div>"
      ],
      "text/plain": [
       "                      tmpf   relh   drct  sped   alti skyc1  hour  month  \\\n",
       "time                                                                       \n",
       "2011-04-18 17:53:00  57.20  51.63   50.0  5.75  29.64   OVC    17      4   \n",
       "2011-04-18 18:13:00  57.20  51.63   60.0  9.20  29.63   OVC    18      4   \n",
       "2011-04-18 18:33:00  57.74  50.99   20.0  8.05  29.63   OVC    18      4   \n",
       "2011-04-18 18:53:00  58.10  49.29   10.0  5.75  29.62   OVC    18      4   \n",
       "2011-04-18 19:13:00  59.72  47.17   80.0  8.05  29.61   OVC    19      4   \n",
       "...                    ...    ...    ...   ...    ...   ...   ...    ...   \n",
       "2022-02-23 19:15:00  14.20  44.30  340.0  3.45  30.08   SCT    19      2   \n",
       "2022-02-23 19:35:00  11.50  48.96  310.0  5.75  30.07   SCT    19      2   \n",
       "2022-02-23 19:55:00   9.90  49.87    0.0  0.00  30.04   SCT    19      2   \n",
       "2022-02-23 20:15:00   9.50  53.52  320.0  3.45  30.03   SCT    20      2   \n",
       "2022-02-23 20:35:00  12.20  51.71  320.0  3.45  30.02   BKN    20      2   \n",
       "\n",
       "                     year  day  \n",
       "time                            \n",
       "2011-04-18 17:53:00  2011   18  \n",
       "2011-04-18 18:13:00  2011   18  \n",
       "2011-04-18 18:33:00  2011   18  \n",
       "2011-04-18 18:53:00  2011   18  \n",
       "2011-04-18 19:13:00  2011   18  \n",
       "...                   ...  ...  \n",
       "2022-02-23 19:15:00  2022   23  \n",
       "2022-02-23 19:35:00  2022   23  \n",
       "2022-02-23 19:55:00  2022   23  \n",
       "2022-02-23 20:15:00  2022   23  \n",
       "2022-02-23 20:35:00  2022   23  \n",
       "\n",
       "[266268 rows x 10 columns]"
      ]
     },
     "execution_count": 3,
     "metadata": {},
     "output_type": "execute_result"
    }
   ],
   "source": [
    "# Cloud cover types are Overcast, Broken, Scattered, Clear\n",
    "df_cloudy = df.loc[(df['skyc1'] == 'OVC') | (df['skyc1'] == 'BKN') | (df['skyc1'] == 'SCT') | (df['skyc1'] == 'CLR')].copy()\n",
    "\n",
    "# Use hour, month, and year for the classification\n",
    "df_cloudy['time'] = pd.to_datetime(df_cloudy['valid'], format = '%Y-%m-%d %H:%M')\n",
    "df_cloudy['hour'] = df_cloudy['time'].dt.hour\n",
    "df_cloudy['month'] = df_cloudy['time'].dt.month\n",
    "df_cloudy['year'] = df_cloudy['time'].dt.year\n",
    "df_cloudy['day'] = df_cloudy['time'].dt.day\n",
    "\n",
    "# Drop other variables and then NaNs\n",
    "df_cloudy.index = df_cloudy['time']\n",
    "df_cloudy.drop(columns=['station', 'valid', 'gust_mph', 'skyc2', 'skyc3', 'skyl1', 'skyl2', 'skyl3', 'p01i', 'time'], inplace=True)\n",
    "df_cloudy.dropna(inplace=True)\n",
    "\n",
    "df_cloudy"
   ]
  },
  {
   "cell_type": "code",
   "execution_count": 4,
   "metadata": {},
   "outputs": [],
   "source": [
    "X = df_cloudy[['tmpf', 'relh', 'drct', 'sped', 'alti', 'hour', 'month', 'year', 'day']]\n",
    "y = df_cloudy['skyc1']\n",
    "\n",
    "# Split data into training/testing (clear is most likely, so stratify)\n",
    "X_train, X_test, y_train, y_test = train_test_split(X, y, stratify=y, random_state=0)"
   ]
  },
  {
   "cell_type": "code",
   "execution_count": 5,
   "metadata": {},
   "outputs": [
    {
     "data": {
      "text/plain": [
       "RandomForestClassifier(random_state=0)"
      ]
     },
     "execution_count": 5,
     "metadata": {},
     "output_type": "execute_result"
    }
   ],
   "source": [
    "# Random forest classification\n",
    "forest = RandomForestClassifier(random_state=0)\n",
    "forest.fit(X_train, y_train)"
   ]
  },
  {
   "cell_type": "code",
   "execution_count": 6,
   "metadata": {},
   "outputs": [],
   "source": [
    "# Prediction from the test dataset\n",
    "y_pred = forest.predict(X_test)"
   ]
  },
  {
   "cell_type": "code",
   "execution_count": 7,
   "metadata": {},
   "outputs": [
    {
     "data": {
      "text/plain": [
       "0.8107470668649631"
      ]
     },
     "execution_count": 7,
     "metadata": {},
     "output_type": "execute_result"
    }
   ],
   "source": [
    "# Accuracy\n",
    "accuracy_score(y_test, y_pred)"
   ]
  },
  {
   "cell_type": "code",
   "execution_count": 8,
   "metadata": {},
   "outputs": [
    {
     "data": {
      "text/plain": [
       "<matplotlib.legend.Legend at 0x12ff5dd90>"
      ]
     },
     "execution_count": 8,
     "metadata": {},
     "output_type": "execute_result"
    },
    {
     "data": {
      "image/png": "[encoded data removed]",
      "text/plain": [
       "<Figure size 1440x216 with 1 Axes>"
      ]
     },
     "metadata": {
      "needs_background": "light"
     },
     "output_type": "display_data"
    }
   ],
   "source": [
    "# Plot the last year of cloud coverage and the ML prediction\n",
    "fig, ax = plt.subplots(figsize=(20,3))\n",
    "\n",
    "ax.set_xlim([datetime.date(2021, 1, 1), datetime.date(2022, 1, 1)])\n",
    "ax.scatter(df_cloudy.index, df_cloudy['skyc1'], color='C0', s=10, label='KLMO ASOS Data')\n",
    "ax.scatter(y_test.index, y_pred, color='C1', s=0.5, label='ML')\n",
    "ax.set_ylabel(r'Cloud coverage')\n",
    "ax.set_xlabel('Year')\n",
    "ax.legend(loc='upper right')"
   ]
  }
 ],
 "metadata": {
  "kernelspec": {
   "display_name": "Python 3",
   "language": "python",
   "name": "python3"
  },
  "language_info": {
   "codemirror_mode": {
    "name": "ipython",
    "version": 3
   },
   "file_extension": ".py",
   "mimetype": "text/x-python",
   "name": "python",
   "nbconvert_exporter": "python",
   "pygments_lexer": "ipython3",
   "version": "3.8.12"
  }
 },
 "nbformat": 4,
 "nbformat_minor": 4
}
